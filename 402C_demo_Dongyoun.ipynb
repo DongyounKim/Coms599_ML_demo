{
  "nbformat": 4,
  "nbformat_minor": 0,
  "metadata": {
    "colab": {
      "provenance": [],
      "toc_visible": true,
      "machine_shape": "hm",
      "gpuType": "V100",
      "authorship_tag": "ABX9TyNsFsva8C9wO0VD/ParaSwd",
      "include_colab_link": true
    },
    "kernelspec": {
      "name": "python3",
      "display_name": "Python 3"
    },
    "language_info": {
      "name": "python"
    },
    "accelerator": "GPU"
  },
  "cells": [
    {
      "cell_type": "markdown",
      "metadata": {
        "id": "view-in-github",
        "colab_type": "text"
      },
      "source": [
        "<a href=\"https://colab.research.google.com/github/DongyounKim/Coms599_ML_demo/blob/main/402C_demo_Dongyoun.ipynb\" target=\"_parent\"><img src=\"https://colab.research.google.com/assets/colab-badge.svg\" alt=\"Open In Colab\"/></a>"
      ]
    },
    {
      "cell_type": "markdown",
      "source": [
        "# Basic concepts\n",
        "\n",
        "References:\n",
        "\n",
        "[1] https://towardsdatascience.com/the-definitive-perceptron-guide-fd384eb93382#3213\n",
        "\n",
        "[2] https://github.com/CSCfi/machine-learning-scripts/"
      ],
      "metadata": {
        "id": "U3TUiEMcRGnq"
      }
    },
    {
      "cell_type": "code",
      "source": [
        "from tqdm import tqdm"
      ],
      "metadata": {
        "id": "TqOUu5HYllAa"
      },
      "execution_count": 1,
      "outputs": []
    },
    {
      "cell_type": "markdown",
      "source": [
        "## 1. perceptron"
      ],
      "metadata": {
        "id": "9JwbqHDrYwey"
      }
    },
    {
      "cell_type": "code",
      "execution_count": 2,
      "metadata": {
        "colab": {
          "base_uri": "https://localhost:8080/",
          "height": 505
        },
        "id": "5Mh7Hb-XRCoh",
        "outputId": "20e6c30e-fdf2-4e1f-cf4e-5719f411b6d0"
      },
      "outputs": [
        {
          "output_type": "stream",
          "name": "stdout",
          "text": [
            "[1 1] [3 1] [3 3] [1 3]\n"
          ]
        },
        {
          "output_type": "display_data",
          "data": {
            "text/plain": [
              "<Figure size 640x480 with 1 Axes>"
            ],
            "image/png": "[encoded data removed]"
          },
          "metadata": {}
        },
        {
          "output_type": "execute_result",
          "data": {
            "text/plain": [
              "Perceptron()"
            ],
            "text/html": [
              "<style>#sk-container-id-1 {color: black;background-color: white;}#sk-container-id-1 pre{padding: 0;}#sk-container-id-1 div.sk-toggleable {background-color: white;}#sk-container-id-1 label.sk-toggleable__label {cursor: pointer;display: block;width: 100%;margin-bottom: 0;padding: 0.3em;box-sizing: border-box;text-align: center;}#sk-container-id-1 label.sk-toggleable__label-arrow:before {content: \"▸\";float: left;margin-right: 0.25em;color: #696969;}#sk-container-id-1 label.sk-toggleable__label-arrow:hover:before {color: black;}#sk-container-id-1 div.sk-estimator:hover label.sk-toggleable__label-arrow:before {color: black;}#sk-container-id-1 div.sk-toggleable__content {max-height: 0;max-width: 0;overflow: hidden;text-align: left;background-color: #f0f8ff;}#sk-container-id-1 div.sk-toggleable__content pre {margin: 0.2em;color: black;border-radius: 0.25em;background-color: #f0f8ff;}#sk-container-id-1 input.sk-toggleable__control:checked~div.sk-toggleable__content {max-height: 200px;max-width: 100%;overflow: auto;}#sk-container-id-1 input.sk-toggleable__control:checked~label.sk-toggleable__label-arrow:before {content: \"▾\";}#sk-container-id-1 div.sk-estimator input.sk-toggleable__control:checked~label.sk-toggleable__label {background-color: #d4ebff;}#sk-container-id-1 div.sk-label input.sk-toggleable__control:checked~label.sk-toggleable__label {background-color: #d4ebff;}#sk-container-id-1 input.sk-hidden--visually {border: 0;clip: rect(1px 1px 1px 1px);clip: rect(1px, 1px, 1px, 1px);height: 1px;margin: -1px;overflow: hidden;padding: 0;position: absolute;width: 1px;}#sk-container-id-1 div.sk-estimator {font-family: monospace;background-color: #f0f8ff;border: 1px dotted black;border-radius: 0.25em;box-sizing: border-box;margin-bottom: 0.5em;}#sk-container-id-1 div.sk-estimator:hover {background-color: #d4ebff;}#sk-container-id-1 div.sk-parallel-item::after {content: \"\";width: 100%;border-bottom: 1px solid gray;flex-grow: 1;}#sk-container-id-1 div.sk-label:hover label.sk-toggleable__label {background-color: #d4ebff;}#sk-container-id-1 div.sk-serial::before {content: \"\";position: absolute;border-left: 1px solid gray;box-sizing: border-box;top: 0;bottom: 0;left: 50%;z-index: 0;}#sk-container-id-1 div.sk-serial {display: flex;flex-direction: column;align-items: center;background-color: white;padding-right: 0.2em;padding-left: 0.2em;position: relative;}#sk-container-id-1 div.sk-item {position: relative;z-index: 1;}#sk-container-id-1 div.sk-parallel {display: flex;align-items: stretch;justify-content: center;background-color: white;position: relative;}#sk-container-id-1 div.sk-item::before, #sk-container-id-1 div.sk-parallel-item::before {content: \"\";position: absolute;border-left: 1px solid gray;box-sizing: border-box;top: 0;bottom: 0;left: 50%;z-index: -1;}#sk-container-id-1 div.sk-parallel-item {display: flex;flex-direction: column;z-index: 1;position: relative;background-color: white;}#sk-container-id-1 div.sk-parallel-item:first-child::after {align-self: flex-end;width: 50%;}#sk-container-id-1 div.sk-parallel-item:last-child::after {align-self: flex-start;width: 50%;}#sk-container-id-1 div.sk-parallel-item:only-child::after {width: 0;}#sk-container-id-1 div.sk-dashed-wrapped {border: 1px dashed gray;margin: 0 0.4em 0.5em 0.4em;box-sizing: border-box;padding-bottom: 0.4em;background-color: white;}#sk-container-id-1 div.sk-label label {font-family: monospace;font-weight: bold;display: inline-block;line-height: 1.2em;}#sk-container-id-1 div.sk-label-container {text-align: center;}#sk-container-id-1 div.sk-container {/* jupyter's `normalize.less` sets `[hidden] { display: none; }` but bootstrap.min.css set `[hidden] { display: none !important; }` so we also need the `!important` here to be able to override the default hidden behavior on the sphinx rendered scikit-learn.org. See: https://github.com/scikit-learn/scikit-learn/issues/21755 */display: inline-block !important;position: relative;}#sk-container-id-1 div.sk-text-repr-fallback {display: none;}</style><div id=\"sk-container-id-1\" class=\"sk-top-container\"><div class=\"sk-text-repr-fallback\"><pre>Perceptron()</pre><b>In a Jupyter environment, please rerun this cell to show the HTML representation or trust the notebook. <br />On GitHub, the HTML representation is unable to render, please try loading this page with nbviewer.org.</b></div><div class=\"sk-container\" hidden><div class=\"sk-item\"><div class=\"sk-estimator sk-toggleable\"><input class=\"sk-toggleable__control sk-hidden--visually\" id=\"sk-estimator-id-1\" type=\"checkbox\" checked><label for=\"sk-estimator-id-1\" class=\"sk-toggleable__label sk-toggleable__label-arrow\">Perceptron</label><div class=\"sk-toggleable__content\"><pre>Perceptron()</pre></div></div></div></div></div>"
            ]
          },
          "metadata": {},
          "execution_count": 2
        }
      ],
      "source": [
        "# perceptron\n",
        "\n",
        "import numpy as np\n",
        "import matplotlib.pyplot as plt\n",
        "from sklearn.linear_model import Perceptron\n",
        "\n",
        "X = np.array([[1, 1], [3, 1], [3, 3], [1, 3]])\n",
        "y = np.array([0, 0, 1, 1])\n",
        "\n",
        "print(X[0],X[1],X[2],X[3])\n",
        "plt.plot(X[0],X[1], '.r')\n",
        "plt.plot(X[2],X[3], '.b')\n",
        "plt.show()\n",
        "\n",
        "# Model definition\n",
        "perceptron = Perceptron(max_iter=1000)\n",
        "#Fitting - learning\n",
        "perceptron.fit(X, y)"
      ]
    },
    {
      "cell_type": "code",
      "source": [
        "# Inference with a new data point\n",
        "new_data_point = np.array([[1, 2]])\n",
        "prediction = perceptron.predict(new_data_point)\n",
        "plt.plot(X[0],X[1], '.r')\n",
        "plt.plot(X[2],X[3], '.b')\n",
        "plt.plot(X[0],X[1], '.r')\n",
        "plt.plot(new_data_point[0][0],new_data_point[0][1], '.g')\n",
        "\n",
        "# SHow the hyperline\n",
        "ymin, ymax = plt.ylim()\n",
        "xmin, xmax = plt.xlim()\n",
        "\n",
        "# Calc the hyperplane (decision boundary)\n",
        "xmin, xmax = plt.xlim()\n",
        "w = perceptron.coef_[0]\n",
        "#print(w)\n",
        "a = -w[0] / w[1]\n",
        "#print(a)\n",
        "xx = np.linspace(xmin, xmax)\n",
        "yy = a * xx - (perceptron.intercept_[0]) / w[1]\n",
        "# Plot the hyperplane\n",
        "plt.plot(xx, yy, 'k-')\n",
        "plt.show()\n",
        "plt.show()\n",
        "print(\"prediction is \", prediction)"
      ],
      "metadata": {
        "colab": {
          "base_uri": "https://localhost:8080/",
          "height": 447
        },
        "id": "UQ1eHTQAReOV",
        "outputId": "94d4a4d8-12bd-4814-bbb1-fe1d1fdf74a6"
      },
      "execution_count": 3,
      "outputs": [
        {
          "output_type": "display_data",
          "data": {
            "text/plain": [
              "<Figure size 640x480 with 1 Axes>"
            ],
            "image/png": "[encoded data removed]"
          },
          "metadata": {}
        },
        {
          "output_type": "stream",
          "name": "stdout",
          "text": [
            "prediction is  [1]\n"
          ]
        }
      ]
    },
    {
      "cell_type": "code",
      "source": [
        "# Inference with a new data point\n",
        "new_data_point = np.array([[1.5, 1]])\n",
        "prediction = perceptron.predict(new_data_point)\n",
        "plt.plot(X[0],X[1], '.r')\n",
        "plt.plot(X[2],X[3], '.b')\n",
        "plt.plot(X[0],X[1], '.r')\n",
        "plt.plot(new_data_point[0][0],new_data_point[0][1], '.g')\n",
        "\n",
        "# SHow the hyperline\n",
        "ymin, ymax = plt.ylim()\n",
        "xmin, xmax = plt.xlim()\n",
        "\n",
        "# Calc the hyperplane (decision boundary)\n",
        "xmin, xmax = plt.xlim()\n",
        "w = perceptron.coef_[0]\n",
        "a = -w[0] / w[1]\n",
        "xx = np.linspace(xmin, xmax)\n",
        "yy = a * xx - (perceptron.intercept_[0]) / w[1]\n",
        "\n",
        "# Plot the hyperplane\n",
        "plt.plot(xx, yy, 'k-')\n",
        "plt.show()\n",
        "print(prediction)"
      ],
      "metadata": {
        "colab": {
          "base_uri": "https://localhost:8080/",
          "height": 447
        },
        "id": "LOa6wziwRrDt",
        "outputId": "1447bb64-6e9f-43f9-d75a-ad06439a8b4e"
      },
      "execution_count": 4,
      "outputs": [
        {
          "output_type": "display_data",
          "data": {
            "text/plain": [
              "<Figure size 640x480 with 1 Axes>"
            ],
            "image/png": "[encoded data removed]"
          },
          "metadata": {}
        },
        {
          "output_type": "stream",
          "name": "stdout",
          "text": [
            "[0]\n"
          ]
        }
      ]
    },
    {
      "cell_type": "markdown",
      "source": [
        "#2. MLP and CNN\n"
      ],
      "metadata": {
        "id": "ETMFU3lKeXyV"
      }
    },
    {
      "cell_type": "markdown",
      "source": [
        "## 1. Mnist Dataset Load"
      ],
      "metadata": {
        "id": "qIuxIxwJWQ2D"
      }
    },
    {
      "cell_type": "markdown",
      "source": [
        "references: https://github.com/CSCfi/machine-learning-scripts/blob/master/notebooks/pytorch-mnist-mlp.ipynb"
      ],
      "metadata": {
        "id": "UFkKSfUdbyM1"
      }
    },
    {
      "cell_type": "code",
      "source": [
        "import torch\n",
        "import torchvision.datasets as dataset\n",
        "from torch.utils.data import DataLoader\n",
        "from torchvision.transforms import ToTensor\n",
        "\n",
        "# MNIST Dataset\n",
        "train_dataset = dataset.MNIST(root='./data',\n",
        "                            train=True,\n",
        "                            transform=ToTensor(),\n",
        "                            download=True)\n",
        "\n",
        "test_dataset = dataset.MNIST(root='./data',\n",
        "                           train=False,\n",
        "                           transform=ToTensor())\n",
        "\n",
        "# Data Loader (Input Pipeline)\n",
        "## which is used for processing the dataset in batches in an efficient manner\n",
        "train_loader = DataLoader(dataset=train_dataset, batch_size=100, shuffle=True)\n",
        "test_loader = DataLoader(dataset=test_dataset, batch_size=100, shuffle=False)"
      ],
      "metadata": {
        "id": "1xyDSyQtWThU"
      },
      "execution_count": 46,
      "outputs": []
    },
    {
      "cell_type": "code",
      "source": [
        "import matplotlib.pyplot as plt\n",
        "for (data, target) in train_loader:\n",
        "    print('data:', data.size(), 'type:', data.type())\n",
        "    print('target:', target.size(), 'type:', target.type())\n",
        "    break\n",
        "pltsize=1\n",
        "plt.figure(figsize=(10*pltsize, pltsize))\n",
        "\n",
        "for i in range(10):\n",
        "    plt.subplot(1,10,i+1)\n",
        "    plt.axis('off')\n",
        "    plt.imshow(data[i,:,:,:].numpy().reshape(28,28), cmap=\"gray_r\")\n",
        "    plt.title('Class: '+str(target[i].item()))"
      ],
      "metadata": {
        "colab": {
          "base_uri": "https://localhost:8080/",
          "height": 160
        },
        "id": "0xLkkQ76ZWIR",
        "outputId": "d22cb09c-725d-41e6-9168-d74f90733c0b"
      },
      "execution_count": 6,
      "outputs": [
        {
          "output_type": "stream",
          "name": "stdout",
          "text": [
            "data: torch.Size([100, 1, 28, 28]) type: torch.FloatTensor\n",
            "target: torch.Size([100]) type: torch.LongTensor\n"
          ]
        },
        {
          "output_type": "display_data",
          "data": {
            "text/plain": [
              "<Figure size 1000x100 with 10 Axes>"
            ],
            "image/png": "[encoded data removed]"
          },
          "metadata": {}
        }
      ]
    },
    {
      "cell_type": "markdown",
      "source": [
        "## Multi-layer perceptron (MLP) network"
      ],
      "metadata": {
        "id": "HiRK6S3JXVnC"
      }
    },
    {
      "cell_type": "code",
      "source": [
        "# Deep Neural Network Model\n",
        "import torch.nn as nn\n",
        "\n",
        "\n",
        "class MLP(nn.Module):\n",
        "    def __init__(self, input_size, num_classes):\n",
        "        super(MLP, self).__init__()\n",
        "        self.layers = nn.Sequential(\n",
        "            nn.Flatten(), #input\n",
        "            nn.Linear(input_size, 64), # 1st hidden states\n",
        "            nn.ReLU(),\n",
        "            nn.Linear(64, 32), # 2nd hidden states\n",
        "            nn.ReLU(),\n",
        "            nn.Linear(32, num_classes) #input, class_num\n",
        "            ## Softmax layer ignored since the loss function defined is nn.CrossEntropy()\n",
        "        )\n",
        "\n",
        "    def forward(self, x):\n",
        "        #out = self.flatten(x)\n",
        "        logits = self.layers(x)\n",
        "        return logits\n",
        "\n",
        "\n",
        "# Neurons of each layer\n",
        "input_size = 784\n",
        "num_classes = 10\n",
        "\n",
        "# Initialization\n",
        "device = \"cuda\" if torch.cuda.is_available() else \"cpu\"\n",
        "mlp_model = MLP(input_size, num_classes).to(device)\n",
        "print(mlp_model)"
      ],
      "metadata": {
        "colab": {
          "base_uri": "https://localhost:8080/"
        },
        "id": "hb3BQpDvXaWb",
        "outputId": "fae016d1-ddfc-4e08-e952-363f0373ea5f"
      },
      "execution_count": 7,
      "outputs": [
        {
          "output_type": "stream",
          "name": "stdout",
          "text": [
            "MLP(\n",
            "  (layers): Sequential(\n",
            "    (0): Flatten(start_dim=1, end_dim=-1)\n",
            "    (1): Linear(in_features=784, out_features=64, bias=True)\n",
            "    (2): ReLU()\n",
            "    (3): Linear(in_features=64, out_features=32, bias=True)\n",
            "    (4): ReLU()\n",
            "    (5): Linear(in_features=32, out_features=10, bias=True)\n",
            "  )\n",
            ")\n"
          ]
        }
      ]
    },
    {
      "cell_type": "markdown",
      "source": [
        "## Training the model\n",
        "For a classification task we typically use the cross entropy loss. For this we can use the class CrossEntropyLoss."
      ],
      "metadata": {
        "id": "in8rsbRYYYvH"
      }
    },
    {
      "cell_type": "code",
      "source": [
        "criterion = nn.CrossEntropyLoss()\n",
        "optimizer = torch.optim.Adam(mlp_model.parameters())"
      ],
      "metadata": {
        "id": "H4Z1jZM3YdFA"
      },
      "execution_count": 8,
      "outputs": []
    },
    {
      "cell_type": "code",
      "source": [
        "def correct(output, target):\n",
        "    predicted_digits = output.argmax(1)                            # pick digit with largest network output\n",
        "    correct_ones = (predicted_digits == target).type(torch.float)  # 1.0 for correct, 0.0 for incorrect\n",
        "    return correct_ones.sum().item()                               # count number of correct ones"
      ],
      "metadata": {
        "id": "N6pRfmVcYYSO"
      },
      "execution_count": 58,
      "outputs": []
    },
    {
      "cell_type": "code",
      "source": [
        "def train(data_loader, model, criterion, optimizer):\n",
        "    model.train()\n",
        "\n",
        "    num_batches = len(data_loader)\n",
        "    num_items = len(data_loader.dataset)\n",
        "\n",
        "    total_loss = 0\n",
        "    total_correct = 0\n",
        "    for data, target in data_loader:\n",
        "        # Copy data and targets to GPU\n",
        "        data = data.to(device)\n",
        "        target = target.to(device)\n",
        "\n",
        "        # Do a forward pass\n",
        "        output = model(data)\n",
        "\n",
        "        # Calculate the loss\n",
        "        loss = criterion(output, target)\n",
        "        total_loss += loss\n",
        "\n",
        "        # Count number of correct digits\n",
        "        total_correct += correct(output, target)\n",
        "\n",
        "        # Backpropagation\n",
        "        loss.backward()\n",
        "        optimizer.step()\n",
        "        optimizer.zero_grad()\n",
        "\n",
        "    train_loss = total_loss/num_batches\n",
        "    accuracy = total_correct/num_items\n",
        "    print(f\"Average loss: {train_loss:7f}, accuracy: {accuracy:.2%}\")"
      ],
      "metadata": {
        "id": "hwI2g4r_YyKv"
      },
      "execution_count": 10,
      "outputs": []
    },
    {
      "cell_type": "code",
      "source": [
        "%%time\n",
        "\n",
        "epochs = 5\n",
        "for epoch in range(epochs):\n",
        "    print(f\"Training epoch: {epoch+1}\")\n",
        "    train(train_loader, mlp_model, criterion, optimizer)"
      ],
      "metadata": {
        "colab": {
          "base_uri": "https://localhost:8080/"
        },
        "id": "Wm86XVdrY4g-",
        "outputId": "adf794ca-b3e9-494d-a3c4-031e952b4403"
      },
      "execution_count": 11,
      "outputs": [
        {
          "output_type": "stream",
          "name": "stdout",
          "text": [
            "Training epoch: 1\n",
            "Average loss: 0.465405, accuracy: 86.73%\n",
            "Training epoch: 2\n",
            "Average loss: 0.209423, accuracy: 93.89%\n",
            "Training epoch: 3\n",
            "Average loss: 0.161549, accuracy: 95.29%\n",
            "Training epoch: 4\n",
            "Average loss: 0.130114, accuracy: 96.19%\n",
            "Training epoch: 5\n",
            "Average loss: 0.108344, accuracy: 96.75%\n",
            "CPU times: user 38.8 s, sys: 480 ms, total: 39.3 s\n",
            "Wall time: 39 s\n"
          ]
        }
      ]
    },
    {
      "cell_type": "markdown",
      "source": [
        "## Inference"
      ],
      "metadata": {
        "id": "e7FF1nRcaQWc"
      }
    },
    {
      "cell_type": "code",
      "source": [
        "def test(test_loader, model, criterion):\n",
        "    model.eval()\n",
        "\n",
        "    num_batches = len(test_loader)\n",
        "    num_items = len(test_loader.dataset)\n",
        "\n",
        "    test_loss = 0\n",
        "    total_correct = 0\n",
        "\n",
        "    with torch.no_grad():\n",
        "        for data, target in test_loader:\n",
        "            # Copy data and targets to GPU\n",
        "            data = data.to(device)\n",
        "            target = target.to(device)\n",
        "\n",
        "            # Do a forward pass\n",
        "            output = model(data)\n",
        "\n",
        "            # Calculate the loss\n",
        "            loss = criterion(output, target)\n",
        "            test_loss += loss.item()\n",
        "\n",
        "            # Count number of correct digits\n",
        "            total_correct += correct(output, target)\n",
        "\n",
        "    test_loss = test_loss/num_batches\n",
        "    accuracy = total_correct/num_items\n",
        "\n",
        "    print(f\"Testset accuracy: {100*accuracy:>0.1f}%, average loss: {test_loss:>7f}\")"
      ],
      "metadata": {
        "id": "YNSUcMKeefH0"
      },
      "execution_count": 12,
      "outputs": []
    },
    {
      "cell_type": "code",
      "source": [
        "test(test_loader, mlp_model, criterion)"
      ],
      "metadata": {
        "colab": {
          "base_uri": "https://localhost:8080/"
        },
        "id": "_rk1oSJ0ahY7",
        "outputId": "5ebfae33-0a45-4cad-e208-0577bc3a76ac"
      },
      "execution_count": 13,
      "outputs": [
        {
          "output_type": "stream",
          "name": "stdout",
          "text": [
            "Testset accuracy: 96.3%, average loss: 0.118014\n"
          ]
        }
      ]
    },
    {
      "cell_type": "markdown",
      "source": [
        "## Task: Model with two hidden layers\n",
        "* 1st hidden layer: 300 units\n",
        "* 2nd hidden layer: 100 units\n",
        "* Activation function: nn.Tanh()"
      ],
      "metadata": {
        "id": "Ryejg31zalDB"
      }
    },
    {
      "cell_type": "code",
      "source": [
        "class OwnModel(nn.Module):\n",
        "    def __init__(self):\n",
        "        super().__init__()\n",
        "        self.layers = nn.Sequential(\n",
        "            ## ADD layer!!!\n",
        "            nn.Flatten(), #input\n",
        "            nn.Linear(input_size, 64), # 1st hidden states\n",
        "            nn.ReLU(), # Activation\n",
        "            nn.Linear(64, 32), # 2nd hidden states\n",
        "            nn.ReLU(), # Activation\n",
        "            nn.Linear(32, num_classes) #input, class_num\n",
        "            ## Softmax layer ignored since the loss function defined is nn.CrossEntropy()\n",
        "        )\n",
        "\n",
        "    def forward(self, x):\n",
        "        return self.layers(x)"
      ],
      "metadata": {
        "id": "0qoLyeY9bEqd"
      },
      "execution_count": 14,
      "outputs": []
    },
    {
      "cell_type": "markdown",
      "source": [
        "### Task: Training with own model"
      ],
      "metadata": {
        "id": "SHCF9XTVa6aN"
      }
    },
    {
      "cell_type": "code",
      "source": [
        "ex1_model = OwnModel()\n",
        "ex1_model.to(device)\n",
        "ex1_criterion = nn.CrossEntropyLoss()\n",
        "ex1_optimizer = torch.optim.Adam(ex1_model.parameters())"
      ],
      "metadata": {
        "id": "eDlnDVBEa_or"
      },
      "execution_count": 15,
      "outputs": []
    },
    {
      "cell_type": "code",
      "source": [
        "%%time\n",
        "epochs = 5\n",
        "for epoch in range(epochs):\n",
        "    print(f\"Epoch: {epoch+1} ...\")\n",
        "    train(train_loader, ex1_model, ex1_criterion, ex1_optimizer)"
      ],
      "metadata": {
        "colab": {
          "base_uri": "https://localhost:8080/"
        },
        "id": "Glyxqcl2bSts",
        "outputId": "a4c390cf-27cb-4474-b4ed-74a7e5d6429f"
      },
      "execution_count": 16,
      "outputs": [
        {
          "output_type": "stream",
          "name": "stdout",
          "text": [
            "Epoch: 1 ...\n",
            "Average loss: 0.469222, accuracy: 87.28%\n",
            "Epoch: 2 ...\n",
            "Average loss: 0.204407, accuracy: 94.05%\n",
            "Epoch: 3 ...\n",
            "Average loss: 0.153816, accuracy: 95.53%\n",
            "Epoch: 4 ...\n",
            "Average loss: 0.123529, accuracy: 96.34%\n",
            "Epoch: 5 ...\n",
            "Average loss: 0.102052, accuracy: 97.01%\n",
            "CPU times: user 37 s, sys: 228 ms, total: 37.2 s\n",
            "Wall time: 37 s\n"
          ]
        }
      ]
    },
    {
      "cell_type": "markdown",
      "source": [
        "## Convolution Neural Network\n"
      ],
      "metadata": {
        "id": "2FNudql7eE7G"
      }
    },
    {
      "cell_type": "code",
      "source": [
        "'''\n",
        "Already Load Datasets\n",
        "'''"
      ],
      "metadata": {
        "colab": {
          "base_uri": "https://localhost:8080/",
          "height": 35
        },
        "id": "bMNyRKXqbTQ_",
        "outputId": "986e5001-6784-4a15-c9cc-147f4b673cf5"
      },
      "execution_count": 17,
      "outputs": [
        {
          "output_type": "execute_result",
          "data": {
            "text/plain": [
              "'\\nAlready Load Datasets\\n'"
            ],
            "application/vnd.google.colaboratory.intrinsic+json": {
              "type": "string"
            }
          },
          "metadata": {},
          "execution_count": 17
        }
      ]
    },
    {
      "cell_type": "code",
      "source": [
        "class SimpleCNN(nn.Module):\n",
        "    def __init__(self):\n",
        "        super().__init__()\n",
        "        self.layers = nn.Sequential( #the input to Conv2d will be 1x28x28 as the images have a single color channel (gray scale) and have a width by height of 28x28\n",
        "            nn.Conv2d(1, 32, kernel_size=3, padding='valid'),\n",
        "            nn.ReLU(),\n",
        "            nn.MaxPool2d(kernel_size=2),\n",
        "            nn.Flatten(),\n",
        "            nn.Linear(32*13*13, 128),\n",
        "            nn.ReLU(),\n",
        "            nn.Linear(128, 10)\n",
        "        )\n",
        "\n",
        "    def forward(self, x):\n",
        "        return self.layers(x)\n",
        "\n",
        "cnn_model = SimpleCNN().to(device)\n",
        "print(cnn_model)"
      ],
      "metadata": {
        "colab": {
          "base_uri": "https://localhost:8080/"
        },
        "id": "YctMkkGaeOIp",
        "outputId": "ed21ff42-8237-4ca7-d8bc-5f527a1a2844"
      },
      "execution_count": 18,
      "outputs": [
        {
          "output_type": "stream",
          "name": "stdout",
          "text": [
            "SimpleCNN(\n",
            "  (layers): Sequential(\n",
            "    (0): Conv2d(1, 32, kernel_size=(3, 3), stride=(1, 1), padding=valid)\n",
            "    (1): ReLU()\n",
            "    (2): MaxPool2d(kernel_size=2, stride=2, padding=0, dilation=1, ceil_mode=False)\n",
            "    (3): Flatten(start_dim=1, end_dim=-1)\n",
            "    (4): Linear(in_features=5408, out_features=128, bias=True)\n",
            "    (5): ReLU()\n",
            "    (6): Linear(in_features=128, out_features=10, bias=True)\n",
            "  )\n",
            ")\n"
          ]
        }
      ]
    },
    {
      "cell_type": "code",
      "source": [
        "criterion = nn.CrossEntropyLoss()\n",
        "optimizer = torch.optim.Adam(cnn_model.parameters())"
      ],
      "metadata": {
        "id": "_SS1AnyJeRzR"
      },
      "execution_count": 19,
      "outputs": []
    },
    {
      "cell_type": "code",
      "source": [
        "%%time\n",
        "epochs = 5\n",
        "for epoch in range(epochs):\n",
        "    print(f\"Training epoch: {epoch+1}\")\n",
        "    train(train_loader, cnn_model, criterion, optimizer)"
      ],
      "metadata": {
        "colab": {
          "base_uri": "https://localhost:8080/"
        },
        "id": "0nFoDxweRYzN",
        "outputId": "2f057d3c-363c-4f47-d5a7-f0949e51154e"
      },
      "execution_count": 20,
      "outputs": [
        {
          "output_type": "stream",
          "name": "stdout",
          "text": [
            "Training epoch: 1\n",
            "Average loss: 0.254021, accuracy: 92.62%\n",
            "Training epoch: 2\n",
            "Average loss: 0.081486, accuracy: 97.64%\n",
            "Training epoch: 3\n",
            "Average loss: 0.053309, accuracy: 98.46%\n",
            "Training epoch: 4\n",
            "Average loss: 0.037400, accuracy: 98.89%\n",
            "Training epoch: 5\n",
            "Average loss: 0.028995, accuracy: 99.10%\n",
            "CPU times: user 37.4 s, sys: 268 ms, total: 37.7 s\n",
            "Wall time: 37.4 s\n"
          ]
        }
      ]
    },
    {
      "cell_type": "code",
      "source": [
        "test(test_loader, cnn_model, criterion)"
      ],
      "metadata": {
        "colab": {
          "base_uri": "https://localhost:8080/"
        },
        "id": "aSwIAKvCRgN_",
        "outputId": "a7c43e4d-e25e-4429-81ff-ab0fb4c854d5"
      },
      "execution_count": 21,
      "outputs": [
        {
          "output_type": "stream",
          "name": "stdout",
          "text": [
            "Testset accuracy: 98.6%, average loss: 0.040432\n"
          ]
        }
      ]
    },
    {
      "cell_type": "markdown",
      "source": [
        "## Tasks 2: complex CNN model\n",
        "\n",
        "Your task is to try the same problem as above, but with two convolutional layers. The new model should have the following layers in order:\n",
        "\n",
        "<Later>\n",
        "* Convolutional (Conv2d) layer with 32 units and 3x3 kernels, valid padding + ReLU activation\n",
        "* Another identical convolutional layer + ReLU activation\n",
        "* Max pooling (MaxPool2d) layer with 2x2 pooling size\n",
        "* Dropout with 0.25 rate\n",
        "* Flatten\n",
        "* Dense layer with 128 units\n",
        "* Dropout with 0.5 rate\n",
        "* Dense output layer with 10 units"
      ],
      "metadata": {
        "id": "m3xc0lz4SliF"
      }
    },
    {
      "cell_type": "code",
      "source": [
        "class ComplexCNN(nn.Module):\n",
        "    def __init__(self):\n",
        "        super().__init__()\n",
        "        self.layers = nn.Sequential(\n",
        "           # TASK 1: ADD LAYERS HERE\n",
        "           nn.Conv2d(1, 32, kernel_size=3, padding='valid'),\n",
        "           nn.ReLU(),\n",
        "           nn.Conv2d(32, 32, kernel_size=3, padding='valid'),\n",
        "           nn.ReLU(),\n",
        "           nn.MaxPool2d(kernel_size=2),\n",
        "           nn.Dropout(0.25),\n",
        "           nn.Flatten(),\n",
        "           nn.Linear(12*12*32, 128),\n",
        "           nn.ReLU(),\n",
        "           nn.Dropout(0.5),\n",
        "           nn.Linear(128, 10)\n",
        "        )\n",
        "\n",
        "    def forward(self, x):\n",
        "        return self.layers(x)"
      ],
      "metadata": {
        "id": "5gA4ZLmCSp8m"
      },
      "execution_count": 54,
      "outputs": []
    },
    {
      "cell_type": "code",
      "source": [
        "ex2_model = ComplexCNN()\n",
        "ex2_model.to(device)\n",
        "print(ex2_model)"
      ],
      "metadata": {
        "colab": {
          "base_uri": "https://localhost:8080/"
        },
        "id": "F3-jdEQKTBI3",
        "outputId": "5a5fa4b4-4099-4929-a240-de1db2ddbc6d"
      },
      "execution_count": 55,
      "outputs": [
        {
          "output_type": "stream",
          "name": "stdout",
          "text": [
            "ComplexCNN(\n",
            "  (layers): Sequential(\n",
            "    (0): Conv2d(1, 32, kernel_size=(3, 3), stride=(1, 1), padding=valid)\n",
            "    (1): ReLU()\n",
            "    (2): Conv2d(32, 32, kernel_size=(3, 3), stride=(1, 1), padding=valid)\n",
            "    (3): ReLU()\n",
            "    (4): MaxPool2d(kernel_size=2, stride=2, padding=0, dilation=1, ceil_mode=False)\n",
            "    (5): Dropout(p=0.25, inplace=False)\n",
            "    (6): Flatten(start_dim=1, end_dim=-1)\n",
            "    (7): Linear(in_features=4608, out_features=128, bias=True)\n",
            "    (8): ReLU()\n",
            "    (9): Dropout(p=0.5, inplace=False)\n",
            "    (10): Linear(in_features=128, out_features=10, bias=True)\n",
            "  )\n",
            ")\n"
          ]
        }
      ]
    },
    {
      "cell_type": "code",
      "source": [
        "ex2_criterion = nn.CrossEntropyLoss()\n",
        "ex2_optimizer = torch.optim.Adam(ex2_model.parameters())"
      ],
      "metadata": {
        "id": "4v9BsIdqTFIe"
      },
      "execution_count": 56,
      "outputs": []
    },
    {
      "cell_type": "code",
      "source": [
        "%%time\n",
        "\n",
        "epochs = 5\n",
        "for epoch in range(epochs):\n",
        "    print(f\"Epoch: {epoch+1} ...\")\n",
        "    train(train_loader, ex2_model, ex2_criterion, ex2_optimizer)"
      ],
      "metadata": {
        "colab": {
          "base_uri": "https://localhost:8080/"
        },
        "id": "213g9OrGTHi_",
        "outputId": "c50c671f-c1c7-44de-f920-2b3defd20ea3"
      },
      "execution_count": 59,
      "outputs": [
        {
          "output_type": "stream",
          "name": "stdout",
          "text": [
            "Epoch: 1 ...\n"
          ]
        },
        {
          "output_type": "stream",
          "name": "stderr",
          "text": [
            "100%|██████████| 600/600 [00:08<00:00, 74.92it/s]\n"
          ]
        },
        {
          "output_type": "stream",
          "name": "stdout",
          "text": [
            "Average loss: 0.294107, accuracy: 91.04%\n",
            "Epoch: 2 ...\n"
          ]
        },
        {
          "output_type": "stream",
          "name": "stderr",
          "text": [
            "100%|██████████| 600/600 [00:07<00:00, 75.70it/s]\n"
          ]
        },
        {
          "output_type": "stream",
          "name": "stdout",
          "text": [
            "Average loss: 0.107471, accuracy: 96.91%\n",
            "Epoch: 3 ...\n"
          ]
        },
        {
          "output_type": "stream",
          "name": "stderr",
          "text": [
            "100%|██████████| 600/600 [00:07<00:00, 76.42it/s]\n"
          ]
        },
        {
          "output_type": "stream",
          "name": "stdout",
          "text": [
            "Average loss: 0.080090, accuracy: 97.61%\n",
            "Epoch: 4 ...\n"
          ]
        },
        {
          "output_type": "stream",
          "name": "stderr",
          "text": [
            "100%|██████████| 600/600 [00:07<00:00, 75.07it/s]\n"
          ]
        },
        {
          "output_type": "stream",
          "name": "stdout",
          "text": [
            "Average loss: 0.068621, accuracy: 97.97%\n",
            "Epoch: 5 ...\n"
          ]
        },
        {
          "output_type": "stream",
          "name": "stderr",
          "text": [
            "100%|██████████| 600/600 [00:08<00:00, 74.28it/s]"
          ]
        },
        {
          "output_type": "stream",
          "name": "stdout",
          "text": [
            "Average loss: 0.057001, accuracy: 98.23%\n",
            "CPU times: user 40 s, sys: 343 ms, total: 40.3 s\n",
            "Wall time: 39.9 s\n"
          ]
        },
        {
          "output_type": "stream",
          "name": "stderr",
          "text": [
            "\n"
          ]
        }
      ]
    },
    {
      "cell_type": "code",
      "source": [
        "test(test_loader, ex1_model, ex1_criterion)"
      ],
      "metadata": {
        "colab": {
          "base_uri": "https://localhost:8080/"
        },
        "id": "8Z4_MhxTTOJa",
        "outputId": "645e6898-a537-444b-aaa9-9c597107f654"
      },
      "execution_count": 26,
      "outputs": [
        {
          "output_type": "stream",
          "name": "stdout",
          "text": [
            "Testset accuracy: 96.7%, average loss: 0.109728\n"
          ]
        }
      ]
    },
    {
      "cell_type": "markdown",
      "source": [
        "# RNN"
      ],
      "metadata": {
        "id": "bUGAbH7-TYye"
      }
    },
    {
      "cell_type": "markdown",
      "source": [
        "## Simple sentiment classification with RNNs\n",
        "## dataset download\n",
        "\n"
      ],
      "metadata": {
        "id": "YgI27bCYUIYn"
      }
    },
    {
      "cell_type": "code",
      "source": [
        "!pip install 'portalocker>=2.0.0'"
      ],
      "metadata": {
        "colab": {
          "base_uri": "https://localhost:8080/"
        },
        "id": "enshz3b0jmiZ",
        "outputId": "f9434393-79bb-463b-bba2-2ede67e58ce5"
      },
      "execution_count": 27,
      "outputs": [
        {
          "output_type": "stream",
          "name": "stdout",
          "text": [
            "Requirement already satisfied: portalocker>=2.0.0 in /usr/local/lib/python3.10/dist-packages (2.8.2)\n"
          ]
        }
      ]
    },
    {
      "cell_type": "code",
      "source": [
        "from torchtext import datasets\n",
        "data_dir = './data'\n",
        "print('data_dir =', data_dir)\n",
        "\n",
        "train_dataset, test_dataset = datasets.IMDB(data_dir, split=('train', 'test'))"
      ],
      "metadata": {
        "colab": {
          "base_uri": "https://localhost:8080/"
        },
        "id": "sOuChyzriDoq",
        "outputId": "cd447469-d13b-400a-da23-9af63fd99b49"
      },
      "execution_count": 28,
      "outputs": [
        {
          "output_type": "stream",
          "name": "stdout",
          "text": [
            "data_dir = ./data\n"
          ]
        }
      ]
    },
    {
      "cell_type": "code",
      "source": [
        "def count_labels(dataset):\n",
        "    counts={}\n",
        "    i=0\n",
        "    for label, text in dataset:\n",
        "        if label not in counts:\n",
        "            counts[label] = 1\n",
        "        else:\n",
        "            counts[label] += 1\n",
        "    for key, value in counts.items():\n",
        "        print(f\"label: {key}, count: {value}\")\n",
        "\n",
        "print('train')\n",
        "count_labels(train_dataset)\n",
        "\n",
        "print('test')\n",
        "count_labels(test_dataset)"
      ],
      "metadata": {
        "colab": {
          "base_uri": "https://localhost:8080/"
        },
        "id": "ohCp96VngtHy",
        "outputId": "c64cb046-430b-4a4d-b060-2a522ffd9f0c"
      },
      "execution_count": 29,
      "outputs": [
        {
          "output_type": "stream",
          "name": "stdout",
          "text": [
            "train\n",
            "label: 1, count: 12500\n",
            "label: 2, count: 12500\n",
            "test\n",
            "label: 1, count: 12500\n",
            "label: 2, count: 12500\n"
          ]
        }
      ]
    },
    {
      "cell_type": "code",
      "source": [
        "for label, text in train_dataset:\n",
        "    print(\"First review in the training set:\")\n",
        "    print(text)\n",
        "    print(\"Label:\", label)\n",
        "    break"
      ],
      "metadata": {
        "colab": {
          "base_uri": "https://localhost:8080/"
        },
        "id": "OxIaQuKrjwI1",
        "outputId": "14b5b877-56e1-4efc-f983-55cb303567d4"
      },
      "execution_count": 30,
      "outputs": [
        {
          "output_type": "stream",
          "name": "stdout",
          "text": [
            "First review in the training set:\n",
            "I rented I AM CURIOUS-YELLOW from my video store because of all the controversy that surrounded it when it was first released in 1967. I also heard that at first it was seized by U.S. customs if it ever tried to enter this country, therefore being a fan of films considered \"controversial\" I really had to see this for myself.<br /><br />The plot is centered around a young Swedish drama student named Lena who wants to learn everything she can about life. In particular she wants to focus her attentions to making some sort of documentary on what the average Swede thought about certain political issues such as the Vietnam War and race issues in the United States. In between asking politicians and ordinary denizens of Stockholm about their opinions on politics, she has sex with her drama teacher, classmates, and married men.<br /><br />What kills me about I AM CURIOUS-YELLOW is that 40 years ago, this was considered pornographic. Really, the sex and nudity scenes are few and far between, even then it's not shot like some cheaply made porno. While my countrymen mind find it shocking, in reality sex and nudity are a major staple in Swedish cinema. Even Ingmar Bergman, arguably their answer to good old boy John Ford, had sex scenes in his films.<br /><br />I do commend the filmmakers for the fact that any sex shown in the film is shown for artistic purposes rather than just to shock people and make money to be shown in pornographic theaters in America. I AM CURIOUS-YELLOW is a good film for anyone wanting to study the meat and potatoes (no pun intended) of Swedish cinema. But really, this film doesn't have much of a plot.\n",
            "Label: 1\n"
          ]
        }
      ]
    },
    {
      "cell_type": "markdown",
      "source": [
        "## Pre-processing\n",
        "To achieve this we will:\n",
        "\n",
        "* Create a \"vocabulary\", that is a mapping from each word to a unique number assigned to that word\n",
        "* Convert sentences to lists of integers using the vocabulary\n",
        "* Make fixed-length vectors out of the lists of integers by truncating too long lists, and padding too shorts ones with zeros"
      ],
      "metadata": {
        "id": "w1XkaORskEck"
      }
    },
    {
      "cell_type": "code",
      "source": [
        "from torchtext.data.utils import get_tokenizer\n",
        "from torchtext.vocab import build_vocab_from_iterator\n",
        "\n",
        "# number of most-frequent words to use\n",
        "nb_words = 10000\n",
        "\n",
        "tokenizer = get_tokenizer(\"basic_english\")\n",
        "\n",
        "def yield_tokens(data_iter):\n",
        "    for _, text in data_iter:\n",
        "        yield tokenizer(text)\n",
        "\n",
        "vocab = build_vocab_from_iterator(yield_tokens(train_dataset),\n",
        "                                  specials=[\"<unk>\"], max_tokens=nb_words)\n",
        "vocab.set_default_index(vocab[\"<unk>\"])"
      ],
      "metadata": {
        "id": "Ead7lWB4kCW2"
      },
      "execution_count": 31,
      "outputs": []
    },
    {
      "cell_type": "code",
      "source": [
        "for word in ['hello', 'the', 'recurrent', '<unk>']:\n",
        "    print(word, \"->\", vocab[word])"
      ],
      "metadata": {
        "colab": {
          "base_uri": "https://localhost:8080/"
        },
        "id": "O5GHaHVvkNz7",
        "outputId": "4d221f0f-3f2f-4a43-c6fe-2f656c8e1753"
      },
      "execution_count": 32,
      "outputs": [
        {
          "output_type": "stream",
          "name": "stdout",
          "text": [
            "hello -> 4644\n",
            "the -> 1\n",
            "recurrent -> 0\n",
            "<unk> -> 0\n"
          ]
        }
      ]
    },
    {
      "cell_type": "code",
      "source": [
        "#PyTorch DataPipes to map the sentences to fixed-length vectors. We'll use a vector length of 80.\n",
        "import torchtext.transforms as T\n",
        "maxlen = 80\n",
        "\n",
        "patterns_list = [\n",
        "    (r'\"', '')\n",
        "]\n",
        "\n",
        "patterns_list = [\n",
        "    (r'[,._+ ]+', r' ')\n",
        "]\n",
        "\n",
        "text_transform = T.Sequential(\n",
        "    T.RegexTokenizer(patterns_list),  # Split sentences into words\n",
        "    T.VocabTransform(vocab),          # Transform from words to integers\n",
        "    T.Truncate(maxlen),               # Truncate (shorten) too long lists\n",
        "    T.ToTensor(),                     # Transform to PyTorch tensors\n",
        "    T.PadTransform(maxlen, 0),        # Pad too short lists with zeros\n",
        ")"
      ],
      "metadata": {
        "id": "VbccbD2vkddz"
      },
      "execution_count": 33,
      "outputs": []
    },
    {
      "cell_type": "code",
      "source": [
        "text_transform(\"hello, this is a test sentence\")"
      ],
      "metadata": {
        "colab": {
          "base_uri": "https://localhost:8080/"
        },
        "id": "6A9AUGr2krGp",
        "outputId": "f4e39c68-6996-4a68-ab35-0d8310732112"
      },
      "execution_count": 34,
      "outputs": [
        {
          "output_type": "execute_result",
          "data": {
            "text/plain": [
              "tensor([4644,   13,    9,    5, 2150, 4324,    0,    0,    0,    0,    0,    0,\n",
              "           0,    0,    0,    0,    0,    0,    0,    0,    0,    0,    0,    0,\n",
              "           0,    0,    0,    0,    0,    0,    0,    0,    0,    0,    0,    0,\n",
              "           0,    0,    0,    0,    0,    0,    0,    0,    0,    0,    0,    0,\n",
              "           0,    0,    0,    0,    0,    0,    0,    0,    0,    0,    0,    0,\n",
              "           0,    0,    0,    0,    0,    0,    0,    0,    0,    0,    0,    0,\n",
              "           0,    0,    0,    0,    0,    0,    0,    0])"
            ]
          },
          "metadata": {},
          "execution_count": 34
        }
      ]
    },
    {
      "cell_type": "code",
      "source": [
        "# Apply the list of transforms to the text\n",
        "# We also switch around so we have the text first and labels second\n",
        "# Finally we subtract 1 from the label so that 0=negative and 1=positive review\n",
        "def apply_transform(x):\n",
        "    return text_transform(x[1]), torch.tensor(x[0]-1, dtype=torch.float)\n",
        "\n",
        "\n",
        "train_dataset_tr = train_dataset.map(apply_transform)\n",
        "test_dataset_tr = test_dataset.map(apply_transform)"
      ],
      "metadata": {
        "id": "slGAC-C2k0YT"
      },
      "execution_count": 35,
      "outputs": []
    },
    {
      "cell_type": "code",
      "source": [
        "batch_size = 128\n",
        "\n",
        "train_loader = DataLoader(dataset=train_dataset_tr, batch_size=batch_size, shuffle=True,\n",
        "                          drop_last=True)\n",
        "test_loader = DataLoader(dataset=test_dataset_tr, batch_size=batch_size, shuffle=False,\n",
        "                         drop_last=True)"
      ],
      "metadata": {
        "id": "dELZnrcGk53T"
      },
      "execution_count": 36,
      "outputs": []
    },
    {
      "cell_type": "markdown",
      "source": [
        "## RNN model\n",
        "Let's create an RNN model that contains an LSTM layer. The first layer in the network is an embedding layer that converts integer indices to dense vectors of length embedding_dims. The output layer contains a single neuron and sigmoid non-linearity to match the binary groundtruth (0=negative, 1=positive review)."
      ],
      "metadata": {
        "id": "UcOszhs5k-OJ"
      }
    },
    {
      "cell_type": "code",
      "source": [
        "# model parameters:\n",
        "embedding_dims = 50\n",
        "lstm_units = 32\n",
        "\n",
        "class SimpleRNN(nn.Module):\n",
        "    def __init__(self):\n",
        "        super().__init__()\n",
        "        self.emb = nn.Embedding(nb_words, embedding_dims)\n",
        "        self.dropout = nn.Dropout(0.2)\n",
        "        self.lstm = nn.LSTM(embedding_dims, lstm_units, batch_first=True)\n",
        "        self.linear = nn.Linear(lstm_units, 1)\n",
        "        self.sigmoid = nn.Sigmoid()\n",
        "\n",
        "    def forward(self, x):\n",
        "        x = self.emb(x)\n",
        "        x = self.dropout(x)\n",
        "        x, (hn, cn) = self.lstm(x)    # LSTM also returns the values of the internal h_n and c_n parameters\n",
        "        x = self.linear(x[:, -1, :])  # we pick only the last output after having processed the whole sequence\n",
        "        return self.sigmoid(x.view(-1))\n",
        "\n",
        "model = SimpleRNN().to(device)\n",
        "print(model)"
      ],
      "metadata": {
        "colab": {
          "base_uri": "https://localhost:8080/"
        },
        "id": "FT5KTZBwk8Oe",
        "outputId": "233bfc2a-b411-4fcf-bdc8-3a32c0aede6c"
      },
      "execution_count": 37,
      "outputs": [
        {
          "output_type": "stream",
          "name": "stdout",
          "text": [
            "SimpleRNN(\n",
            "  (emb): Embedding(10000, 50)\n",
            "  (dropout): Dropout(p=0.2, inplace=False)\n",
            "  (lstm): LSTM(50, 32, batch_first=True)\n",
            "  (linear): Linear(in_features=32, out_features=1, bias=True)\n",
            "  (sigmoid): Sigmoid()\n",
            ")\n"
          ]
        }
      ]
    },
    {
      "cell_type": "markdown",
      "source": [
        "## Learning"
      ],
      "metadata": {
        "id": "HZXR3DxZlJ_F"
      }
    },
    {
      "cell_type": "code",
      "source": [
        "def correct(output, target):\n",
        "    sentiment_pred = output.round().int()          # set to 0 for <0.5 and 1 for >0.5\n",
        "    correct_ones = sentiment_pred == target.int()  # 1 for correct, 0 for incorrect\n",
        "    return correct_ones.sum().item()               # count number of correct ones"
      ],
      "metadata": {
        "id": "Q17K-hGAlLfv"
      },
      "execution_count": 38,
      "outputs": []
    },
    {
      "cell_type": "code",
      "source": [
        "def train(data_loader, model, criterion, optimizer):\n",
        "    model.train()\n",
        "\n",
        "    num_batches = 0\n",
        "    num_items = 0\n",
        "\n",
        "    total_loss = 0\n",
        "    total_correct = 0\n",
        "    for data, target in tqdm(data_loader):\n",
        "        # Copy data and targets to GPU\n",
        "        data = data.to(device)\n",
        "        target = target.to(device)\n",
        "\n",
        "        # Do a forward pass\n",
        "        output = model(data)\n",
        "\n",
        "        # Calculate the loss\n",
        "        loss = criterion(output, target)\n",
        "        total_loss += loss\n",
        "        num_batches += 1\n",
        "\n",
        "        # Count number of correct digits\n",
        "        total_correct += correct(output, target)\n",
        "        num_items += len(target)\n",
        "\n",
        "        # Backpropagation\n",
        "        loss.backward()\n",
        "        optimizer.step()\n",
        "        optimizer.zero_grad()\n",
        "\n",
        "    train_loss = total_loss/num_batches\n",
        "    accuracy = total_correct/num_items\n",
        "    print(f\"Average loss: {train_loss:7f}, accuracy: {accuracy:.2%}\")"
      ],
      "metadata": {
        "id": "DMX-e6fjlMKx"
      },
      "execution_count": 39,
      "outputs": []
    },
    {
      "cell_type": "code",
      "source": [
        "criterion = nn.BCELoss() #Binary cross-entropy loss\n",
        "optimizer = torch.optim.RMSprop(model.parameters())"
      ],
      "metadata": {
        "id": "RXwuywb6lQKM"
      },
      "execution_count": 40,
      "outputs": []
    },
    {
      "cell_type": "code",
      "source": [
        "%%time\n",
        "epochs = 5\n",
        "for epoch in range(epochs):\n",
        "    print(f\"Training epoch: {epoch+1}\")\n",
        "    train(train_loader, model, criterion, optimizer)"
      ],
      "metadata": {
        "colab": {
          "base_uri": "https://localhost:8080/"
        },
        "id": "4BcBVxnulVkz",
        "outputId": "e9f63182-b061-4a66-c52d-84820e2a7feb"
      },
      "execution_count": 41,
      "outputs": [
        {
          "output_type": "stream",
          "name": "stdout",
          "text": [
            "Training epoch: 1\n"
          ]
        },
        {
          "output_type": "stream",
          "name": "stderr",
          "text": [
            "195it [00:09, 20.83it/s]\n"
          ]
        },
        {
          "output_type": "stream",
          "name": "stdout",
          "text": [
            "Average loss: 0.543415, accuracy: 71.98%\n",
            "Training epoch: 2\n"
          ]
        },
        {
          "output_type": "stream",
          "name": "stderr",
          "text": [
            "195it [00:09, 20.25it/s]\n"
          ]
        },
        {
          "output_type": "stream",
          "name": "stdout",
          "text": [
            "Average loss: 0.528536, accuracy: 72.98%\n",
            "Training epoch: 3\n"
          ]
        },
        {
          "output_type": "stream",
          "name": "stderr",
          "text": [
            "195it [00:08, 22.56it/s]\n"
          ]
        },
        {
          "output_type": "stream",
          "name": "stdout",
          "text": [
            "Average loss: 0.431036, accuracy: 80.53%\n",
            "Training epoch: 4\n"
          ]
        },
        {
          "output_type": "stream",
          "name": "stderr",
          "text": [
            "195it [00:08, 22.58it/s]\n"
          ]
        },
        {
          "output_type": "stream",
          "name": "stdout",
          "text": [
            "Average loss: 0.369523, accuracy: 84.04%\n",
            "Training epoch: 5\n"
          ]
        },
        {
          "output_type": "stream",
          "name": "stderr",
          "text": [
            "195it [00:08, 21.97it/s]"
          ]
        },
        {
          "output_type": "stream",
          "name": "stdout",
          "text": [
            "Average loss: 0.323454, accuracy: 86.07%\n",
            "CPU times: user 44.8 s, sys: 632 ms, total: 45.4 s\n",
            "Wall time: 45.2 s\n"
          ]
        },
        {
          "output_type": "stream",
          "name": "stderr",
          "text": [
            "\n"
          ]
        }
      ]
    },
    {
      "cell_type": "markdown",
      "source": [
        "## Inference"
      ],
      "metadata": {
        "id": "CkKsRsQ3lsON"
      }
    },
    {
      "cell_type": "code",
      "source": [
        "def test(test_loader, model, criterion):\n",
        "    model.eval()\n",
        "\n",
        "    num_batches = 0\n",
        "    num_items = 0\n",
        "\n",
        "    test_loss = 0\n",
        "    total_correct = 0\n",
        "\n",
        "    with torch.no_grad():\n",
        "        for data, target in test_loader:\n",
        "            # Copy data and targets to GPU\n",
        "            data = data.to(device)\n",
        "            target = target.to(device)\n",
        "\n",
        "            # Do a forward pass\n",
        "            output = model(data)\n",
        "\n",
        "            # Calculate the loss\n",
        "            loss = criterion(output, target)\n",
        "            test_loss += loss.item()\n",
        "            num_batches += 1\n",
        "\n",
        "            # Count number of correct digits\n",
        "            total_correct += correct(output, target)\n",
        "            num_items += len(target)\n",
        "\n",
        "    test_loss = test_loss/num_batches\n",
        "    accuracy = total_correct/num_items\n",
        "\n",
        "    print(f\"Testset accuracy: {100*accuracy:>0.1f}%, average loss: {test_loss:>7f}\")"
      ],
      "metadata": {
        "id": "pNKtAkMXlXZB"
      },
      "execution_count": 42,
      "outputs": []
    },
    {
      "cell_type": "code",
      "source": [
        "test(test_loader, model, criterion)"
      ],
      "metadata": {
        "colab": {
          "base_uri": "https://localhost:8080/"
        },
        "id": "mqoNFQWslvBH",
        "outputId": "ce5bf7fa-06e9-4703-9342-7402c6198a6b"
      },
      "execution_count": 43,
      "outputs": [
        {
          "output_type": "stream",
          "name": "stdout",
          "text": [
            "Testset accuracy: 75.8%, average loss: 0.535613\n"
          ]
        }
      ]
    },
    {
      "cell_type": "code",
      "source": [
        "#myreviewtext = 'this movie was the worst i have ever seen and the actors were horrible'\n",
        "myreviewtext = 'this movie was awesome and then best action I have ever seen'\n",
        "\n",
        "input = text_transform(myreviewtext).view(1, -1).to(device)\n",
        "print(input)\n",
        "p = model(input).item()\n",
        "sentiment = \"POSITIVE\" if p > 0.5 else \"NEGATIVE\"\n",
        "print(f'Predicted sentiment: {sentiment} ({p:.4f})')"
      ],
      "metadata": {
        "colab": {
          "base_uri": "https://localhost:8080/"
        },
        "id": "b2NL1da6lxRf",
        "outputId": "d26a4f76-a6f1-4198-8784-c284085ba3ed"
      },
      "execution_count": 44,
      "outputs": [
        {
          "output_type": "stream",
          "name": "stdout",
          "text": [
            "tensor([[  13,   20,   16, 1153,    4,  100,  123,  224,    0,   32,  130,  116,\n",
            "            0,    0,    0,    0,    0,    0,    0,    0,    0,    0,    0,    0,\n",
            "            0,    0,    0,    0,    0,    0,    0,    0,    0,    0,    0,    0,\n",
            "            0,    0,    0,    0,    0,    0,    0,    0,    0,    0,    0,    0,\n",
            "            0,    0,    0,    0,    0,    0,    0,    0,    0,    0,    0,    0,\n",
            "            0,    0,    0,    0,    0,    0,    0,    0,    0,    0,    0,    0,\n",
            "            0,    0,    0,    0,    0,    0,    0,    0]], device='cuda:0')\n",
            "Predicted sentiment: POSITIVE (0.8997)\n"
          ]
        }
      ]
    }
  ]
}